{
 "cells": [
  {
   "cell_type": "markdown",
   "metadata": {},
   "source": [
    "## TODO: add documentation to notebook"
   ]
  },
  {
   "cell_type": "code",
   "execution_count": 9,
   "metadata": {},
   "outputs": [],
   "source": [
    "from tqdm import tqdm\n",
    "import random\n",
    "from __init__ import make"
   ]
  },
  {
   "cell_type": "code",
   "execution_count": 10,
   "metadata": {},
   "outputs": [],
   "source": [
    "# env = make(render_mode=\"keyboard\")\n",
    "env = make(render_mode=\"human\")\n",
    "# env = make()"
   ]
  },
  {
   "cell_type": "code",
   "execution_count": 11,
   "metadata": {},
   "outputs": [
    {
     "name": "stdout",
     "output_type": "stream",
     "text": [
      "OH NO! Agent truncated! Last seen at: [1278.  300.]\n",
      "OH NO! Agent crashed! Last seen at: [537. 397.]\n"
     ]
    }
   ],
   "source": [
    "# pbar = tqdm(range(1000))\n",
    "normal_range = range(1000)\n",
    "for i in normal_range:\n",
    "    # state, reward, terminated, truncated, _ = env.step(random.choice([1]))\n",
    "    state, reward, terminated, truncated, _ = env.step(random.choice([1,2,3,4,5]))\n",
    "    # tqdm debug\n",
    "    # pbar.set_postfix({\n",
    "    #     \"\\033[0;35mState\" : f\"\\033[1;35m{state}\\033[0;37m\",\n",
    "    #     \"\\033[0;36mReward\" : f\"\\033[1;36m{reward}\\033[0;37m\", \n",
    "    #     f\"\\033[{'31' if not terminated else '32'}mTerminated\" : f\"{terminated}\\033[0;37m\",\n",
    "    #     f\"\\033[{'31' if not truncated else '32'}mTruncated\" : f\"{truncated}\\033[0;37m\",\n",
    "    # })\n",
    "    if terminated or truncated:\n",
    "        print(f\"OH NO! Agent {'crashed' if terminated else 'truncated'}! Last seen at: {state[:2]}\")\n",
    "        env.reset()"
   ]
  },
  {
   "cell_type": "code",
   "execution_count": 12,
   "metadata": {},
   "outputs": [],
   "source": [
    "env.close()"
   ]
  }
 ],
 "metadata": {
  "kernelspec": {
   "display_name": "ASster",
   "language": "python",
   "name": "python3"
  },
  "language_info": {
   "codemirror_mode": {
    "name": "ipython",
    "version": 3
   },
   "file_extension": ".py",
   "mimetype": "text/x-python",
   "name": "python",
   "nbconvert_exporter": "python",
   "pygments_lexer": "ipython3",
   "version": "3.11.9"
  }
 },
 "nbformat": 4,
 "nbformat_minor": 2
}
