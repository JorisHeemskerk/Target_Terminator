{
 "cells": [
  {
   "cell_type": "markdown",
   "metadata": {},
   "source": [
    "## TODO: add documentation to notebook"
   ]
  },
  {
   "cell_type": "code",
   "execution_count": 3,
   "metadata": {},
   "outputs": [],
   "source": [
    "from tqdm import tqdm\n",
    "import random\n",
    "from __init__ import make"
   ]
  },
  {
   "cell_type": "code",
   "execution_count": 4,
   "metadata": {},
   "outputs": [],
   "source": [
    "# env = make(render_mode=\"keyboard\")\n",
    "# env = make(render_mode=\"human\")\n",
    "env = make()"
   ]
  },
  {
   "cell_type": "code",
   "execution_count": 5,
   "metadata": {},
   "outputs": [
    {
     "name": "stdout",
     "output_type": "stream",
     "text": [
      "OH NO! Agent truncated! Last seen at: [ 1.19915433e+03 -2.71052806e-01]\n",
      "OH NO! Agent truncated! Last seen at: [1280.32888191  341.23468187]\n",
      "OH NO! Agent crashed! Last seen at: [477.6788132  478.22100615]\n",
      "OH NO! Agent truncated! Last seen at: [1280.78655533  530.88814508]\n",
      "OH NO! Agent truncated! Last seen at: [1280.12341942  477.97818704]\n",
      "OH NO! Agent truncated! Last seen at: [1280.13619802  613.43562646]\n",
      "OH NO! Agent truncated! Last seen at: [1280.78799983  675.89888778]\n",
      "OH NO! Agent truncated! Last seen at: [1280.44375398  333.35625507]\n",
      "OH NO! Agent truncated! Last seen at: [ 1.00174128e+03 -1.08449756e-01]\n",
      "OH NO! Agent truncated! Last seen at: [1241.76088288  720.10749081]\n",
      "OH NO! Agent truncated! Last seen at: [1280.57323197   40.49695349]\n",
      "OH NO! Agent truncated! Last seen at: [ 6.21745729e+02 -4.69599730e-01]\n",
      "OH NO! Agent truncated! Last seen at: [1280.83864194  182.08437949]\n",
      "OH NO! Agent crashed! Last seen at: [538.70187717 390.68825494]\n"
     ]
    }
   ],
   "source": [
    "# pbar = tqdm(range(1000))\n",
    "normal_range = range(10000)\n",
    "for i in normal_range:\n",
    "    # state, reward, terminated, truncated, _ = env.step(random.choice([1]))\n",
    "    state, reward, terminated, truncated, _ = env.step(random.choice([1,2,3,4,5]))\n",
    "    # tqdm debug\n",
    "    # pbar.set_postfix({\n",
    "    #     \"\\033[0;35mState\" : f\"\\033[1;35m{state}\\033[0;37m\",\n",
    "    #     \"\\033[0;36mReward\" : f\"\\033[1;36m{reward}\\033[0;37m\", \n",
    "    #     f\"\\033[{'31' if not terminated else '32'}mTerminated\" : f\"{terminated}\\033[0;37m\",\n",
    "    #     f\"\\033[{'31' if not truncated else '32'}mTruncated\" : f\"{truncated}\\033[0;37m\",\n",
    "    # })\n",
    "    if terminated or truncated:\n",
    "        print(f\"OH NO! Agent {'crashed' if terminated else 'truncated'}! Last seen at: {state[:2]}\")\n",
    "        env.reset()"
   ]
  },
  {
   "cell_type": "code",
   "execution_count": null,
   "metadata": {},
   "outputs": [],
   "source": [
    "env.close()"
   ]
  },
  {
   "cell_type": "code",
   "execution_count": 1,
   "metadata": {},
   "outputs": [
    {
     "name": "stdout",
     "output_type": "stream",
     "text": [
      "pygame 2.6.0 (SDL 2.28.4, Python 3.11.9)\n",
      "Hello from the pygame community. https://www.pygame.org/contribute.html\n",
      "OH NO! Agent truncated! Last seen at: [1281.04439728  473.09090845]\n",
      "OH NO! Agent truncated! Last seen at: [1280.03063309  354.85668335]\n",
      "OH NO! Agent truncated! Last seen at: [1130.43521827  720.78170326]\n",
      "OH NO! Agent truncated! Last seen at: [1280.16983629  255.4400555 ]\n",
      "OH NO! Agent truncated! Last seen at: [1281.12534151  288.04062389]\n",
      "OH NO! Agent crashed! Last seen at: [571.4117571  408.67493654]\n",
      "OH NO! Agent truncated! Last seen at: [1280.16165194  335.77829541]\n",
      "OH NO! Agent truncated! Last seen at: [1280.95479923  297.50565951]\n",
      "OH NO! Agent truncated! Last seen at: [1280.91736341  424.67653605]\n",
      "OH NO! Agent truncated! Last seen at: [1281.39165887  341.65555401]\n",
      "OH NO! Agent truncated! Last seen at: [ 8.15692963e+02 -4.28950232e-02]\n",
      "OH NO! Agent truncated! Last seen at: [1280.26444318   39.55841074]\n",
      "OH NO! Agent truncated! Last seen at: [1280.62274239  249.63780697]\n",
      "         7443535 function calls (7440135 primitive calls) in 49.418 seconds\n",
      "\n",
      "   Ordered by: cumulative time\n",
      "   List reduced from 637 to 20 due to restriction <20>\n",
      "\n",
      "   ncalls  tottime  percall  cumtime  percall filename:lineno(function)\n",
      "        1    0.246    0.246   49.418   49.418 /tmp/ipykernel_20111/2078026970.py:6(main)\n",
      "    10000    0.202    0.000   48.599    0.005 /home/basdeblok/AS_3_1/Target_Terminator/environment/human_rendering_env.py:157(step)\n",
      "    10013    8.934    0.001   31.240    0.003 /home/basdeblok/AS_3_1/Target_Terminator/environment/human_rendering_env.py:109(_render)\n",
      "    10000    0.202    0.000   17.189    0.002 /home/basdeblok/AS_3_1/Target_Terminator/environment/base_env.py:262(step)\n",
      "    10000    0.211    0.000   15.847    0.002 /home/basdeblok/AS_3_1/Target_Terminator/simulation/entities.py:38(tick)\n",
      "    10000    2.051    0.000   13.102    0.001 /home/basdeblok/AS_3_1/Target_Terminator/simulation/airplanes.py:11(tick)\n",
      "    10013   10.679    0.001   10.679    0.001 {built-in method pygame.display.flip}\n",
      "   723019   10.375    0.000   10.375    0.000 {method 'blit' of 'pygame.surface.Surface' objects}\n",
      "    10000    0.376    0.000    9.186    0.001 /home/basdeblok/anaconda3/envs/ASster/lib/python3.11/site-packages/sklearn/utils/_param_validation.py:182(wrapper)\n",
      "    10000    0.274    0.000    4.147    0.000 /home/basdeblok/anaconda3/envs/ASster/lib/python3.11/site-packages/sklearn/preprocessing/_data.py:1856(normalize)\n",
      "    10000    0.477    0.000    2.795    0.000 /home/basdeblok/anaconda3/envs/ASster/lib/python3.11/site-packages/sklearn/utils/validation.py:718(check_array)\n",
      "    10000    1.379    0.000    1.976    0.000 /home/basdeblok/AS_3_1/Target_Terminator/simulation/entities.py:66(entity_collision)\n",
      "    10000    0.075    0.000    1.921    0.000 /home/basdeblok/anaconda3/envs/ASster/lib/python3.11/inspect.py:3261(signature)\n",
      "    10000    0.055    0.000    1.846    0.000 /home/basdeblok/anaconda3/envs/ASster/lib/python3.11/inspect.py:3007(from_callable)\n",
      "    10000    0.380    0.000    1.790    0.000 /home/basdeblok/anaconda3/envs/ASster/lib/python3.11/inspect.py:2435(_signature_from_callable)\n",
      "    10000    0.194    0.000    1.400    0.000 /home/basdeblok/anaconda3/envs/ASster/lib/python3.11/site-packages/sklearn/utils/_param_validation.py:25(validate_parameter_constraints)\n",
      "    10000    0.348    0.000    1.333    0.000 /home/basdeblok/anaconda3/envs/ASster/lib/python3.11/site-packages/sklearn/utils/validation.py:93(_assert_all_finite)\n",
      "   702993    1.251    0.000    1.251    0.000 {built-in method pygame.transform.rotate}\n",
      "    10000    0.482    0.000    1.246    0.000 /home/basdeblok/anaconda3/envs/ASster/lib/python3.11/inspect.py:2331(_signature_from_function)\n",
      "    50054    0.180    0.000    0.927    0.000 /home/basdeblok/anaconda3/envs/ASster/lib/python3.11/site-packages/numpy/core/fromnumeric.py:71(_wrapreduction)\n",
      "\n",
      "\n"
     ]
    }
   ],
   "source": [
    "import cProfile\n",
    "import pstats\n",
    "import random\n",
    "from __init__ import make\n",
    "\n",
    "def main():\n",
    "    \n",
    "    # env = make(render_mode=\"keyboard\")\n",
    "    env = make(render_mode=\"human\")\n",
    "    # env = make()\n",
    "    # pbar = tqdm(range(1000))\n",
    "    normal_range = range(10000)\n",
    "    for i in normal_range:\n",
    "        # state, reward, terminated, truncated, _ = env.step(random.choice([1]))\n",
    "        state, reward, terminated, truncated, _ = env.step(random.choice([1,2,3,4,5]))\n",
    "        # tqdm debug\n",
    "        # pbar.set_postfix({\n",
    "        #     \"\\033[0;35mState\" : f\"\\033[1;35m{state}\\033[0;37m\",\n",
    "        #     \"\\033[0;36mReward\" : f\"\\033[1;36m{reward}\\033[0;37m\", \n",
    "        #     f\"\\033[{'31' if not terminated else '32'}mTerminated\" : f\"{terminated}\\033[0;37m\",\n",
    "        #     f\"\\033[{'31' if not truncated else '32'}mTruncated\" : f\"{truncated}\\033[0;37m\",\n",
    "        # })\n",
    "        if terminated or truncated:\n",
    "            print(f\"OH NO! Agent {'crashed' if terminated else 'truncated'}! Last seen at: {state[:2]}\")\n",
    "            env.reset()\n",
    "    env.close()\n",
    "\n",
    "if __name__ == \"__main__\":\n",
    "    profiler = cProfile.Profile()\n",
    "    profiler.enable()\n",
    "    main()\n",
    "    profiler.disable()\n",
    "\n",
    "    stats = pstats.Stats(profiler)\n",
    "    stats.sort_stats(\"cumulative\").print_stats(20)  # Top 20 langzaamste functies"
   ]
  },
  {
   "cell_type": "code",
   "execution_count": 2,
   "metadata": {},
   "outputs": [
    {
     "name": "stdout",
     "output_type": "stream",
     "text": [
      "OH NO! Agent truncated! Last seen at: [1280.47153018  201.63236046]\n",
      "OH NO! Agent truncated! Last seen at: [ 7.87543559e+02 -7.36435855e-02]\n",
      "OH NO! Agent truncated! Last seen at: [ 7.74255184e+02 -5.51378296e-01]\n",
      "OH NO! Agent truncated! Last seen at: [1280.10933823  276.20998464]\n",
      "OH NO! Agent truncated! Last seen at: [1280.40807534  528.29525555]\n",
      "OH NO! Agent truncated! Last seen at: [1280.49538033  371.01608051]\n",
      "OH NO! Agent truncated! Last seen at: [ 8.15881852e+02 -2.12827700e-01]\n",
      "OH NO! Agent truncated! Last seen at: [ 8.59800725e+02 -1.71887411e-01]\n",
      "OH NO! Agent truncated! Last seen at: [932.28545101 720.05126529]\n",
      "OH NO! Agent truncated! Last seen at: [1280.95688968  265.84780672]\n",
      "OH NO! Agent truncated! Last seen at: [ 1.22938578e+03 -1.01006121e-01]\n",
      "OH NO! Agent truncated! Last seen at: [1280.29260017  271.65129703]\n",
      "OH NO! Agent truncated! Last seen at: [ 1.08451873e+03 -2.49855819e-01]\n",
      "OH NO! Agent truncated! Last seen at: [ 9.34427059e+02 -9.61478353e-02]\n",
      "         5907275 function calls (5906611 primitive calls) in 9.138 seconds\n",
      "\n",
      "   Ordered by: cumulative time\n",
      "   List reduced from 457 to 20 due to restriction <20>\n",
      "\n",
      "   ncalls  tottime  percall  cumtime  percall filename:lineno(function)\n",
      "        1    0.039    0.039    9.138    9.138 /tmp/ipykernel_789/2414798535.py:4(main)\n",
      "    10000    0.059    0.000    9.008    0.001 /home/basdeblok/AS_3_1/Target_Terminator/environment/base_env.py:262(step)\n",
      "    10000    0.112    0.000    8.309    0.001 /home/basdeblok/AS_3_1/Target_Terminator/simulation/entities.py:38(tick)\n",
      "    10000    0.981    0.000    6.430    0.001 /home/basdeblok/AS_3_1/Target_Terminator/simulation/airplanes.py:11(tick)\n",
      "    10000    0.149    0.000    4.141    0.000 /home/basdeblok/anaconda3/envs/ASster/lib/python3.11/site-packages/sklearn/utils/_param_validation.py:182(wrapper)\n",
      "    10000    0.119    0.000    2.012    0.000 /home/basdeblok/anaconda3/envs/ASster/lib/python3.11/site-packages/sklearn/preprocessing/_data.py:1856(normalize)\n",
      "    10000    0.971    0.000    1.403    0.000 /home/basdeblok/AS_3_1/Target_Terminator/simulation/entities.py:66(entity_collision)\n",
      "    10000    0.217    0.000    1.356    0.000 /home/basdeblok/anaconda3/envs/ASster/lib/python3.11/site-packages/sklearn/utils/validation.py:718(check_array)\n",
      "    10000    0.020    0.000    0.720    0.000 /home/basdeblok/anaconda3/envs/ASster/lib/python3.11/inspect.py:3261(signature)\n",
      "    10000    0.018    0.000    0.700    0.000 /home/basdeblok/anaconda3/envs/ASster/lib/python3.11/inspect.py:3007(from_callable)\n",
      "    10000    0.110    0.000    0.682    0.000 /home/basdeblok/anaconda3/envs/ASster/lib/python3.11/inspect.py:2435(_signature_from_callable)\n",
      "    10000    0.088    0.000    0.634    0.000 /home/basdeblok/anaconda3/envs/ASster/lib/python3.11/site-packages/sklearn/utils/_param_validation.py:25(validate_parameter_constraints)\n",
      "    10000    0.156    0.000    0.618    0.000 /home/basdeblok/anaconda3/envs/ASster/lib/python3.11/site-packages/sklearn/utils/validation.py:93(_assert_all_finite)\n",
      "    10000    0.075    0.000    0.612    0.000 /home/basdeblok/AS_3_1/Target_Terminator/environment/base_env.py:208(_calculate_observation)\n",
      "    10000    0.552    0.000    0.567    0.000 /home/basdeblok/AS_3_1/Target_Terminator/simulation/airplanes.py:55(execute_actions)\n",
      "    50058    0.105    0.000    0.544    0.000 /home/basdeblok/anaconda3/envs/ASster/lib/python3.11/site-packages/numpy/core/fromnumeric.py:71(_wrapreduction)\n",
      "    10000    0.459    0.000    0.526    0.000 /home/basdeblok/AS_3_1/Target_Terminator/simulation/airplanes.py:83(_lift_curve)\n",
      "    10000    0.179    0.000    0.519    0.000 /home/basdeblok/anaconda3/envs/ASster/lib/python3.11/inspect.py:2331(_signature_from_function)\n",
      "    70058    0.447    0.000    0.447    0.000 {method 'reduce' of 'numpy.ufunc' objects}\n",
      "    20030    0.042    0.000    0.433    0.000 /home/basdeblok/anaconda3/envs/ASster/lib/python3.11/site-packages/numpy/core/fromnumeric.py:2177(sum)\n",
      "\n",
      "\n"
     ]
    }
   ],
   "source": [
    "import cProfile\n",
    "import pstats\n",
    "\n",
    "def main():\n",
    "    import random\n",
    "    from __init__ import make\n",
    "    # env = make(render_mode=\"keyboard\")\n",
    "    # env = make(render_mode=\"human\")\n",
    "    env = make()\n",
    "    # pbar = tqdm(range(1000))\n",
    "    normal_range = range(10000)\n",
    "    for i in normal_range:\n",
    "        # state, reward, terminated, truncated, _ = env.step(random.choice([1]))\n",
    "        state, reward, terminated, truncated, _ = env.step(random.choice([1,2,3,4,5]))\n",
    "        # tqdm debug\n",
    "        # pbar.set_postfix({\n",
    "        #     \"\\033[0;35mState\" : f\"\\033[1;35m{state}\\033[0;37m\",\n",
    "        #     \"\\033[0;36mReward\" : f\"\\033[1;36m{reward}\\033[0;37m\", \n",
    "        #     f\"\\033[{'31' if not terminated else '32'}mTerminated\" : f\"{terminated}\\033[0;37m\",\n",
    "        #     f\"\\033[{'31' if not truncated else '32'}mTruncated\" : f\"{truncated}\\033[0;37m\",\n",
    "        # })\n",
    "        if terminated or truncated:\n",
    "            print(f\"OH NO! Agent {'crashed' if terminated else 'truncated'}! Last seen at: {state[:2]}\")\n",
    "            env.reset()\n",
    "    env.close()\n",
    "\n",
    "if __name__ == \"__main__\":\n",
    "    profiler = cProfile.Profile()\n",
    "    profiler.enable()\n",
    "    main()\n",
    "    profiler.disable()\n",
    "\n",
    "    stats = pstats.Stats(profiler)\n",
    "    stats.sort_stats(\"cumulative\").print_stats(20)  # Top 20 langzaamste functies"
   ]
  }
 ],
 "metadata": {
  "kernelspec": {
   "display_name": "ASster",
   "language": "python",
   "name": "python3"
  },
  "language_info": {
   "codemirror_mode": {
    "name": "ipython",
    "version": 3
   },
   "file_extension": ".py",
   "mimetype": "text/x-python",
   "name": "python",
   "nbconvert_exporter": "python",
   "pygments_lexer": "ipython3",
   "version": "3.11.9"
  }
 },
 "nbformat": 4,
 "nbformat_minor": 2
}
