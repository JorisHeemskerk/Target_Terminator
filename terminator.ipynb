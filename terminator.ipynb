{
 "cells": [
  {
   "cell_type": "markdown",
   "metadata": {},
   "source": [
    "## Tutorial notebook\n",
    "Use this notebook to check if your packages are correctly installed"
   ]
  },
  {
   "cell_type": "code",
   "execution_count": null,
   "metadata": {},
   "outputs": [],
   "source": [
    "from __init__ import make\n",
    "import random\n",
    "\n",
    "env = make(render_mode=\"keyboard\")\n",
    "# env = make(render_mode=\"human\")\n",
    "# env = make(render_mode=\"base\")\n",
    "\n",
    "for _ in range(10000):\n",
    "    # in keyboard mode the random.choice will be ignored\n",
    "    state, reward, terminated, truncated, _ = env.step(random.choice([1,2,3,4,5]))\n",
    "    \n",
    "    # respawn agent when crashed or won\n",
    "    if terminated or truncated:\n",
    "        env.reset()\n",
    "env.close()"
   ]
  }
 ],
 "metadata": {
  "kernelspec": {
   "display_name": "TT_test",
   "language": "python",
   "name": "python3"
  },
  "language_info": {
   "codemirror_mode": {
    "name": "ipython",
    "version": 3
   },
   "file_extension": ".py",
   "mimetype": "text/x-python",
   "name": "python",
   "nbconvert_exporter": "python",
   "pygments_lexer": "ipython3",
   "version": "3.11.9"
  }
 },
 "nbformat": 4,
 "nbformat_minor": 2
}
