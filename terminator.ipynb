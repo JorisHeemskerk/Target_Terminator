{
 "cells": [
  {
   "cell_type": "markdown",
   "metadata": {},
   "source": [
    "## TODO: add documentation to notebook"
   ]
  },
  {
   "cell_type": "code",
   "execution_count": 1,
   "metadata": {},
   "outputs": [
    {
     "name": "stdout",
     "output_type": "stream",
     "text": [
      "pygame 2.6.0 (SDL 2.28.4, Python 3.11.9)\n",
      "Hello from the pygame community. https://www.pygame.org/contribute.html\n"
     ]
    }
   ],
   "source": [
    "from tqdm import tqdm\n",
    "import random\n",
    "from __init__ import make"
   ]
  },
  {
   "cell_type": "code",
   "execution_count": 2,
   "metadata": {},
   "outputs": [],
   "source": [
    "# env = make(render_mode=\"keyboard\")\n",
    "env = make(render_mode=\"human\")\n",
    "# env = make()"
   ]
  },
  {
   "cell_type": "code",
   "execution_count": 3,
   "metadata": {},
   "outputs": [],
   "source": [
    "import numpy as np\n",
    "x = np.array([1.2e+03, 6.0e-01, 1.0e+02, 3.2e-01, 5.0e-01 ,3.0e+02 ,1.0e+02 ,1.0e+02, 0.0e+00, 6.0e+00])\n",
    "y = np.array([0, 0, -1, 0])"
   ]
  },
  {
   "cell_type": "code",
   "execution_count": 4,
   "metadata": {},
   "outputs": [
    {
     "data": {
      "text/plain": [
       "array([ 1.2e+03,  6.0e-01,  1.0e+02,  3.2e-01,  5.0e-01,  3.0e+02,\n",
       "        1.0e+02,  1.0e+02,  0.0e+00,  6.0e+00,  0.0e+00,  0.0e+00,\n",
       "       -1.0e+00,  0.0e+00])"
      ]
     },
     "execution_count": 4,
     "metadata": {},
     "output_type": "execute_result"
    }
   ],
   "source": [
    "np.concatenate((x, np.array([0, 0, -1, 0])))"
   ]
  },
  {
   "cell_type": "code",
   "execution_count": 5,
   "metadata": {},
   "outputs": [
    {
     "name": "stdout",
     "output_type": "stream",
     "text": [
      "OH NO! Agent truncated! Last seen at: [1281.59163089  609.89492523]\n",
      "OH NO! Agent truncated! Last seen at: [ 9.78968238e+02 -4.59445541e-01]\n",
      "OH NO! Agent truncated! Last seen at: [ 1.21311372e+03 -2.59965187e-01]\n"
     ]
    },
    {
     "ename": "KeyboardInterrupt",
     "evalue": "",
     "output_type": "error",
     "traceback": [
      "\u001b[0;31m---------------------------------------------------------------------------\u001b[0m",
      "\u001b[0;31mKeyboardInterrupt\u001b[0m                         Traceback (most recent call last)",
      "Cell \u001b[0;32mIn[5], line 5\u001b[0m\n\u001b[1;32m      2\u001b[0m normal_range \u001b[38;5;241m=\u001b[39m \u001b[38;5;28mrange\u001b[39m(\u001b[38;5;241m10000\u001b[39m)\n\u001b[1;32m      3\u001b[0m \u001b[38;5;28;01mfor\u001b[39;00m i \u001b[38;5;129;01min\u001b[39;00m normal_range:\n\u001b[1;32m      4\u001b[0m     \u001b[38;5;66;03m# state, reward, terminated, truncated, _ = env.step(random.choice([1]))\u001b[39;00m\n\u001b[0;32m----> 5\u001b[0m     state, reward, terminated, truncated, _ \u001b[38;5;241m=\u001b[39m \u001b[43menv\u001b[49m\u001b[38;5;241;43m.\u001b[39;49m\u001b[43mstep\u001b[49m\u001b[43m(\u001b[49m\u001b[43mrandom\u001b[49m\u001b[38;5;241;43m.\u001b[39;49m\u001b[43mchoice\u001b[49m\u001b[43m(\u001b[49m\u001b[43m[\u001b[49m\u001b[38;5;241;43m1\u001b[39;49m\u001b[43m,\u001b[49m\u001b[38;5;241;43m2\u001b[39;49m\u001b[43m,\u001b[49m\u001b[38;5;241;43m3\u001b[39;49m\u001b[43m,\u001b[49m\u001b[38;5;241;43m4\u001b[39;49m\u001b[43m,\u001b[49m\u001b[38;5;241;43m5\u001b[39;49m\u001b[43m]\u001b[49m\u001b[43m)\u001b[49m\u001b[43m)\u001b[49m\n\u001b[1;32m      6\u001b[0m     \u001b[38;5;66;03m# tqdm debug\u001b[39;00m\n\u001b[1;32m      7\u001b[0m     \u001b[38;5;66;03m# pbar.set_postfix({\u001b[39;00m\n\u001b[1;32m      8\u001b[0m     \u001b[38;5;66;03m#     \"\\033[0;35mState\" : f\"\\033[1;35m{state}\\033[0;37m\",\u001b[39;00m\n\u001b[0;32m   (...)\u001b[0m\n\u001b[1;32m     11\u001b[0m     \u001b[38;5;66;03m#     f\"\\033[{'31' if not truncated else '32'}mTruncated\" : f\"{truncated}\\033[0;37m\",\u001b[39;00m\n\u001b[1;32m     12\u001b[0m     \u001b[38;5;66;03m# })\u001b[39;00m\n\u001b[1;32m     13\u001b[0m     \u001b[38;5;28;01mif\u001b[39;00m terminated \u001b[38;5;129;01mor\u001b[39;00m truncated:\n",
      "File \u001b[0;32m~/AS_3_1/Target_Terminator/environment/human_rendering_env.py:176\u001b[0m, in \u001b[0;36mHumanRenderingEnv.step\u001b[0;34m(self, action)\u001b[0m\n\u001b[1;32m    157\u001b[0m \u001b[38;5;250m\u001b[39m\u001b[38;5;124;03m\"\"\"\u001b[39;00m\n\u001b[1;32m    158\u001b[0m \u001b[38;5;124;03mStep function for environment.\u001b[39;00m\n\u001b[1;32m    159\u001b[0m \n\u001b[0;32m   (...)\u001b[0m\n\u001b[1;32m    172\u001b[0m \u001b[38;5;124;03m    - np.ndarray with observation of resulting conditions\u001b[39;00m\n\u001b[1;32m    173\u001b[0m \u001b[38;5;124;03m\"\"\"\u001b[39;00m\n\u001b[1;32m    174\u001b[0m step_info \u001b[38;5;241m=\u001b[39m \u001b[38;5;28msuper\u001b[39m()\u001b[38;5;241m.\u001b[39mstep(action\u001b[38;5;241m=\u001b[39maction)\n\u001b[0;32m--> 176\u001b[0m \u001b[38;5;28;43mself\u001b[39;49m\u001b[38;5;241;43m.\u001b[39;49m\u001b[43m_render\u001b[49m\u001b[43m(\u001b[49m\u001b[43m)\u001b[49m\n\u001b[1;32m    178\u001b[0m \u001b[38;5;28;01mreturn\u001b[39;00m step_info\n",
      "File \u001b[0;32m~/AS_3_1/Target_Terminator/environment/human_rendering_env.py:154\u001b[0m, in \u001b[0;36mHumanRenderingEnv._render\u001b[0;34m(self)\u001b[0m\n\u001b[1;32m    145\u001b[0m         \u001b[38;5;28;01mcontinue\u001b[39;00m\n\u001b[1;32m    146\u001b[0m     \u001b[38;5;28mself\u001b[39m\u001b[38;5;241m.\u001b[39mscreen\u001b[38;5;241m.\u001b[39mblit(\n\u001b[1;32m    147\u001b[0m         pygame\u001b[38;5;241m.\u001b[39mtransform\u001b[38;5;241m.\u001b[39mrotate(\n\u001b[1;32m    148\u001b[0m             \u001b[38;5;28mself\u001b[39m\u001b[38;5;241m.\u001b[39m_plane_sprite,\n\u001b[0;32m   (...)\u001b[0m\n\u001b[1;32m    151\u001b[0m         plane_vector[\u001b[38;5;241m3\u001b[39m]\n\u001b[1;32m    152\u001b[0m     )\n\u001b[0;32m--> 154\u001b[0m \u001b[43mpygame\u001b[49m\u001b[38;5;241;43m.\u001b[39;49m\u001b[43mdisplay\u001b[49m\u001b[38;5;241;43m.\u001b[39;49m\u001b[43mflip\u001b[49m\u001b[43m(\u001b[49m\u001b[43m)\u001b[49m\n",
      "\u001b[0;31mKeyboardInterrupt\u001b[0m: "
     ]
    }
   ],
   "source": [
    "# pbar = tqdm(range(1000))\n",
    "normal_range = range(10000)\n",
    "for i in normal_range:\n",
    "    # state, reward, terminated, truncated, _ = env.step(random.choice([1]))\n",
    "    state, reward, terminated, truncated, _ = env.step(random.choice([1,2,3,4,5]))\n",
    "    # tqdm debug\n",
    "    # pbar.set_postfix({\n",
    "    #     \"\\033[0;35mState\" : f\"\\033[1;35m{state}\\033[0;37m\",\n",
    "    #     \"\\033[0;36mReward\" : f\"\\033[1;36m{reward}\\033[0;37m\", \n",
    "    #     f\"\\033[{'31' if not terminated else '32'}mTerminated\" : f\"{terminated}\\033[0;37m\",\n",
    "    #     f\"\\033[{'31' if not truncated else '32'}mTruncated\" : f\"{truncated}\\033[0;37m\",\n",
    "    # })\n",
    "    if terminated or truncated:\n",
    "        print(f\"OH NO! Agent {'crashed' if terminated else 'truncated'}! Last seen at: {state[:2]}\")\n",
    "        env.reset()"
   ]
  },
  {
   "cell_type": "code",
   "execution_count": null,
   "metadata": {},
   "outputs": [],
   "source": [
    "env.close()"
   ]
  },
  {
   "cell_type": "code",
   "execution_count": null,
   "metadata": {},
   "outputs": [],
   "source": [
    "import pygame\n",
    "\n",
    "class Entity(pygame.sprite.Sprite):\n",
    "    def __init__(self, matrix_data):\n",
    "        super().__init__()\n",
    "        self.matrix_data = matrix_data  # De matrix die de objecteigenschappen bevat\n",
    "        \n",
    "        self.image = pygame.Surface((50, 50))  # Je kunt een afbeelding gebruiken of een eenvoudige surface\n",
    "        self.image.fill((255, 0, 0))  # Stel een kleur in (rood bijvoorbeeld)\n",
    "        \n",
    "        self.rect = self.image.get_rect()  # Verkrijg de rechthoek van de afbeelding om te positioneren\n",
    "\n",
    "    def update(self):\n",
    "        # Update de positie van de sprite op basis van de matrix\n",
    "        pos = self.matrix_data[3]  # Aangenomen dat pos de positie in de matrix is (bijv. [x, y])\n",
    "        self.rect.x = pos[0]\n",
    "        self.rect.y = pos[1]\n",
    "        \n",
    "        # Voeg eventueel andere updates toe, zoals het tekenen van snelheid, rotatie, enz.\n",
    "        # Je kunt ook andere eigenschappen gebruiken om de sprite te transformeren (bijv. rotatie door pitch)\n"
   ]
  },
  {
   "cell_type": "code",
   "execution_count": null,
   "metadata": {},
   "outputs": [
    {
     "ename": "NameError",
     "evalue": "name 'matrix_1' is not defined",
     "output_type": "error",
     "traceback": [
      "\u001b[0;31m---------------------------------------------------------------------------\u001b[0m",
      "\u001b[0;31mNameError\u001b[0m                                 Traceback (most recent call last)",
      "Cell \u001b[0;32mIn[8], line 4\u001b[0m\n\u001b[1;32m      1\u001b[0m all_sprites \u001b[38;5;241m=\u001b[39m pygame\u001b[38;5;241m.\u001b[39msprite\u001b[38;5;241m.\u001b[39mGroup()\n\u001b[1;32m      3\u001b[0m \u001b[38;5;66;03m# Stel dat je een lijst van matrices hebt voor verschillende objecten\u001b[39;00m\n\u001b[0;32m----> 4\u001b[0m matrix_data_list \u001b[38;5;241m=\u001b[39m [\u001b[43mmatrix_1\u001b[49m, matrix_2, matrix_3]  \u001b[38;5;66;03m# Vervang dit door je daadwerkelijke matrices\u001b[39;00m\n\u001b[1;32m      6\u001b[0m \u001b[38;5;28;01mfor\u001b[39;00m matrix_data \u001b[38;5;129;01min\u001b[39;00m matrix_data_list:\n\u001b[1;32m      7\u001b[0m     entity \u001b[38;5;241m=\u001b[39m Entity(matrix_data)\n",
      "\u001b[0;31mNameError\u001b[0m: name 'matrix_1' is not defined"
     ]
    }
   ],
   "source": [
    "all_sprites = pygame.sprite.Group()\n",
    "\n",
    "# Stel dat je een lijst van matrices hebt voor verschillende objecten\n",
    "matrix_data_list = [matrix_1, matrix_2, matrix_3]  # Vervang dit door je daadwerkelijke matrices\n",
    "\n",
    "for matrix_data in matrix_data_list:\n",
    "    entity = Entity(matrix_data)\n",
    "    all_sprites.add(entity)"
   ]
  },
  {
   "cell_type": "code",
   "execution_count": null,
   "metadata": {},
   "outputs": [],
   "source": []
  }
 ],
 "metadata": {
  "kernelspec": {
   "display_name": "ASster",
   "language": "python",
   "name": "python3"
  },
  "language_info": {
   "codemirror_mode": {
    "name": "ipython",
    "version": 3
   },
   "file_extension": ".py",
   "mimetype": "text/x-python",
   "name": "python",
   "nbconvert_exporter": "python",
   "pygments_lexer": "ipython3",
   "version": "3.11.9"
  }
 },
 "nbformat": 4,
 "nbformat_minor": 2
}
